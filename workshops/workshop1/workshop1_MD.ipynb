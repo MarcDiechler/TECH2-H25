{
 "cells": [
  {
   "cell_type": "markdown",
   "metadata": {},
   "source": [
    "# Exercise 1: Summing lists and arrays\n",
    "\n",
    "In this exercise, we investigate another difference between built-in lists and NumPy arrays: performance.\n",
    "We do this by comparing the execution time of different implementations of the `sum()` function.\n",
    "\n",
    "1. Create a list `lst` and a NumPy array `arr`, each of them containing the sequence \n",
    "   of ten values `0, 1, 2, ..., 9`.\n",
    "\n",
    "   *Hint*: You can use the list constructor [`list()`](https://www.w3schools.com/python/ref_func_list.asp)\n",
    "   and combine it with the [`range()`](https://docs.python.org/3/library/functions.html#func-range)\n",
    "   function which returns an objecting representing a range of integers.\n",
    "\n",
    "   *Hint:* You should create the NumPy array using \n",
    "   [`np.arange()`](https://numpy.org/doc/stable/reference/generated/numpy.arange.html).\n",
    "\n",
    "2. We want to compute the sum of integers contained in `lst` and `arr`. Use \n",
    "   the built-in function [`sum()`](https://www.w3schools.com/python/ref_func_sum.asp)\n",
    "   to sum elements of a list.\n",
    "   For the NumPy array, use the NumPy function \n",
    "   [`np.sum()`](https://numpy.org/doc/stable/reference/generated/numpy.sum.html).\n",
    "\n",
    "3. You are interested in benchmarking which summing function is faster.\n",
    "    Repeat the steps from above, but use the cell magic \n",
    "    [`%timeit`](https://ipython.readthedocs.io/en/stable/interactive/magics.html#magic-timeit)\n",
    "    to time the execution of a statement as follows:\n",
    "\n",
    "    ```python\n",
    "    %timeit statement\n",
    "    ```\n",
    "\n",
    "4.  Recreate the list and array to contain 100 integers starting from 0,\n",
    "    and rerun the benchmark.\n",
    "\n",
    "5.  Recreate the list and array to contain 10,000 integers starting from 0,\n",
    "    and rerun the benchmark.\n",
    "\n",
    "\n",
    "What do you conclude about the relative performance of built-in lists \n",
    "vs. NumPy arrays?"
   ]
  },
  {
   "cell_type": "code",
   "execution_count": 3,
   "metadata": {},
   "outputs": [
    {
     "data": {
      "text/plain": [
       "45"
      ]
     },
     "execution_count": 3,
     "metadata": {},
     "output_type": "execute_result"
    }
   ],
   "source": [
    "import numpy as np\n",
    "lst = list(range(10)) \n",
    "arr = np.array(lst)\n",
    "sum(lst) "
   ]
  },
  {
   "cell_type": "code",
   "execution_count": 4,
   "metadata": {},
   "outputs": [
    {
     "data": {
      "text/plain": [
       "np.int64(45)"
      ]
     },
     "execution_count": 4,
     "metadata": {},
     "output_type": "execute_result"
    }
   ],
   "source": [
    "np.sum(arr)\n"
   ]
  },
  {
   "cell_type": "code",
   "execution_count": 5,
   "metadata": {},
   "outputs": [
    {
     "name": "stdout",
     "output_type": "stream",
     "text": [
      "41.4 ns ± 0.98 ns per loop (mean ± std. dev. of 7 runs, 10,000,000 loops each)\n",
      "747 ns ± 7.13 ns per loop (mean ± std. dev. of 7 runs, 1,000,000 loops each)\n"
     ]
    }
   ],
   "source": [
    "%timeit sum(lst)\n",
    "%timeit np.sum(arr)"
   ]
  },
  {
   "cell_type": "code",
   "execution_count": 6,
   "metadata": {},
   "outputs": [
    {
     "data": {
      "text/plain": [
       "4950"
      ]
     },
     "execution_count": 6,
     "metadata": {},
     "output_type": "execute_result"
    }
   ],
   "source": [
    "lst = list(range(100))\n",
    "arr = np.array(lst)\n",
    "sum(lst)"
   ]
  },
  {
   "cell_type": "code",
   "execution_count": 8,
   "metadata": {},
   "outputs": [
    {
     "data": {
      "text/plain": [
       "np.int64(4950)"
      ]
     },
     "execution_count": 8,
     "metadata": {},
     "output_type": "execute_result"
    }
   ],
   "source": [
    "np.sum(arr)"
   ]
  },
  {
   "cell_type": "code",
   "execution_count": 9,
   "metadata": {},
   "outputs": [
    {
     "name": "stdout",
     "output_type": "stream",
     "text": [
      "240 ns ± 4.24 ns per loop (mean ± std. dev. of 7 runs, 1,000,000 loops each)\n",
      "746 ns ± 8.15 ns per loop (mean ± std. dev. of 7 runs, 1,000,000 loops each)\n"
     ]
    }
   ],
   "source": [
    "%timeit sum(lst)\n",
    "%timeit np.sum(arr)"
   ]
  },
  {
   "cell_type": "code",
   "execution_count": 13,
   "metadata": {},
   "outputs": [
    {
     "ename": "AttributeError",
     "evalue": "module 'numpy' has no attribute 'arrange'",
     "output_type": "error",
     "traceback": [
      "\u001b[31m---------------------------------------------------------------------------\u001b[39m",
      "\u001b[31mAttributeError\u001b[39m                            Traceback (most recent call last)",
      "\u001b[36mCell\u001b[39m\u001b[36m \u001b[39m\u001b[32mIn[13]\u001b[39m\u001b[32m, line 2\u001b[39m\n\u001b[32m      1\u001b[39m lst = \u001b[38;5;28mlist\u001b[39m(\u001b[38;5;28mrange\u001b[39m(\u001b[32m1000000\u001b[39m)) \n\u001b[32m----> \u001b[39m\u001b[32m2\u001b[39m arr = \u001b[43mnp\u001b[49m\u001b[43m.\u001b[49m\u001b[43marrange\u001b[49m(\u001b[32m1000000\u001b[39m)\n\u001b[32m      3\u001b[39m \u001b[38;5;28msum\u001b[39m(lst)\n\u001b[32m      4\u001b[39m np.sum(arr)\n",
      "\u001b[36mFile \u001b[39m\u001b[32m/opt/anaconda3/envs/TECH2/lib/python3.13/site-packages/numpy/__init__.py:795\u001b[39m, in \u001b[36m__getattr__\u001b[39m\u001b[34m(attr)\u001b[39m\n\u001b[32m    792\u001b[39m     \u001b[38;5;28;01mimport\u001b[39;00m\u001b[38;5;250m \u001b[39m\u001b[34;01mnumpy\u001b[39;00m\u001b[34;01m.\u001b[39;00m\u001b[34;01mchar\u001b[39;00m\u001b[38;5;250m \u001b[39m\u001b[38;5;28;01mas\u001b[39;00m\u001b[38;5;250m \u001b[39m\u001b[34;01mchar\u001b[39;00m\n\u001b[32m    793\u001b[39m     \u001b[38;5;28;01mreturn\u001b[39;00m char.chararray\n\u001b[32m--> \u001b[39m\u001b[32m795\u001b[39m \u001b[38;5;28;01mraise\u001b[39;00m \u001b[38;5;167;01mAttributeError\u001b[39;00m(\u001b[33mf\u001b[39m\u001b[33m\"\u001b[39m\u001b[33mmodule \u001b[39m\u001b[38;5;132;01m{\u001b[39;00m\u001b[34m__name__\u001b[39m\u001b[38;5;132;01m!r}\u001b[39;00m\u001b[33m has no attribute \u001b[39m\u001b[38;5;132;01m{\u001b[39;00mattr\u001b[38;5;132;01m!r}\u001b[39;00m\u001b[33m\"\u001b[39m)\n",
      "\u001b[31mAttributeError\u001b[39m: module 'numpy' has no attribute 'arrange'"
     ]
    }
   ],
   "source": [
    "lst = list(range(1000000)) \n",
    "arr = np.arrange(1000000)\n",
    "sum(lst)\n",
    "np.sum(arr)"
   ]
  },
  {
   "cell_type": "code",
   "execution_count": 11,
   "metadata": {},
   "outputs": [
    {
     "name": "stdout",
     "output_type": "stream",
     "text": [
      "2.53 ms ± 36.6 μs per loop (mean ± std. dev. of 7 runs, 100 loops each)\n",
      "68.6 μs ± 1.38 μs per loop (mean ± std. dev. of 7 runs, 10,000 loops each)\n"
     ]
    }
   ],
   "source": [
    "%timeit sum(lst)\n",
    "%timeit np.sum(arr)"
   ]
  },
  {
   "cell_type": "markdown",
   "metadata": {},
   "source": [
    "***\n",
    "# Exercise 2: Maximizing quadratic utility"
   ]
  },
  {
   "cell_type": "markdown",
   "metadata": {},
   "source": [
    "Assume that an individual derives utility from consuming $c$ items according to the following\n",
    "utility function $u(\\bullet)$:\n",
    "$$\n",
    "u(c) = - A (c - B)^2 + C\n",
    "$$\n",
    "\n",
    "where $A > 0$, $B > 0$ and $C$ are parameters, and $c$ is the consumption level.\n",
    "\n",
    "In this exercise, you are asked to locate the consumption level which delivers the maximum utility.\n",
    "\n",
    "1.  Define a function called `util()` which takes as arguments the consumption level `c` and \n",
    "    three additional arguments `A`, `B`, and `C` which are the parameters of $u(\\bullet)$ define above. The function should return the utility associated \n",
    "    with the given consumption level `c`.\n",
    "\n",
    "2.  Write a function `find_max_cons()` which takes as arguments a sequence of candidate consumption levels and the three parameters\n",
    "    `A`, `B`, and `C`, and returns the maximum utility as well as the consumption level at which utility is maximized.\n",
    "    The function definition should look like this:\n",
    "    ```python\n",
    "    def find_max_cons(candidates, A, B, C):\n",
    "        \"\"\"\n",
    "        Find the consumption level that maximizes utility from a \n",
    "        list of candidates.\n",
    "\n",
    "        Parameters\n",
    "        ----------\n",
    "        candidates : list or array-like\n",
    "            List of candidate consumption levels to evaluate.\n",
    "        A, B, C : float\n",
    "            Parameters of the utility function.\n",
    "\n",
    "        Returns\n",
    "        -------\n",
    "        u_max\n",
    "            Maximized utility\n",
    "        cons_max\n",
    "            Consumption at which utility is maximized\n",
    "        \"\"\"\n",
    "    ```\n",
    "\n",
    "    Your algorithm should perform the following steps:\n",
    "\n",
    "    1.  Define the variable `u_max = -np.inf` (negative infinity) as the initial value.\n",
    "    2.  Loop through all candidate consumption levels, and compute the associated utility. \n",
    "        If this utility is larger than the previous maximum value `u_max`, update `u_max` and store the associated consumption level `cons_max`.\n",
    "    3. Return `u_max` and `cons_max` after the loop terminates.\n",
    "\n",
    "1. Find the maximum:\n",
    "    1.  Create an array `cons` of 51 candidate consumption levels which are uniformly spaced on \n",
    "        the  interval $[0, 4]$.\n",
    "\n",
    "        *Hint:* Use [`np.linspace()`](https://numpy.org/doc/stable/reference/generated/numpy.linspace.html)\n",
    "        for this task.\n",
    "\n",
    "    2.  Use the parameters $A = 1$, $B=2$, and $C=10$.\n",
    "    3.  Use the function `find_max_cons()` to compute the maximum utility and the associated optimal \n",
    "        consumption level, and print the results.\n",
    "\n",
    "2. Repeat the exercise, but instead use vectorized operations from NumPy:\n",
    "    1. Compute and store the utility levels for *all* elements in `cons` at once (simply apply the formula to the whole array).\n",
    "    2. Locate the index of the maximum utility level using \n",
    "       [`np.argmax()`](https://numpy.org/doc/stable/reference/generated/numpy.argmax.html).\n",
    "    3. Use the index returned by `np.argmax()` to retrieve the maximum utility and the \n",
    "        corresponding consumption level, and print the results.\n",
    "\n"
   ]
  },
  {
   "cell_type": "code",
   "execution_count": 22,
   "metadata": {},
   "outputs": [
    {
     "data": {
      "text/plain": [
       "1"
      ]
     },
     "execution_count": 22,
     "metadata": {},
     "output_type": "execute_result"
    }
   ],
   "source": [
    "def util(con,A=1,B=2,C=10):\n",
    "    utility = -A*(con-B)**2 + C\n",
    "    return utility\n",
    "util(5)\n"
   ]
  },
  {
   "cell_type": "code",
   "execution_count": 25,
   "metadata": {},
   "outputs": [
    {
     "data": {
      "text/plain": [
       "array([  9.        ,   9.17355372,   9.33057851,   9.47107438,\n",
       "         9.59504132,   9.70247934,   9.79338843,   9.8677686 ,\n",
       "         9.92561983,   9.96694215,   9.99173554,  10.        ,\n",
       "         9.99173554,   9.96694215,   9.92561983,   9.8677686 ,\n",
       "         9.79338843,   9.70247934,   9.59504132,   9.47107438,\n",
       "         9.33057851,   9.17355372,   9.        ,   8.80991736,\n",
       "         8.60330579,   8.38016529,   8.14049587,   7.88429752,\n",
       "         7.61157025,   7.32231405,   7.01652893,   6.69421488,\n",
       "         6.3553719 ,   6.        ,   5.62809917,   5.23966942,\n",
       "         4.83471074,   4.41322314,   3.97520661,   3.52066116,\n",
       "         3.04958678,   2.56198347,   2.05785124,   1.53719008,\n",
       "         1.        ,   0.44628099,  -0.12396694,  -0.7107438 ,\n",
       "        -1.31404959,  -1.9338843 ,  -2.57024793,  -3.2231405 ,\n",
       "        -3.89256198,  -4.5785124 ,  -5.28099174,  -6.        ,\n",
       "        -6.73553719,  -7.48760331,  -8.25619835,  -9.04132231,\n",
       "        -9.84297521, -10.66115702, -11.49586777, -12.34710744,\n",
       "       -13.21487603, -14.09917355, -15.        , -15.91735537,\n",
       "       -16.85123967, -17.80165289, -18.76859504, -19.75206612,\n",
       "       -20.75206612, -21.76859504, -22.80165289, -23.85123967,\n",
       "       -24.91735537, -26.        , -27.09917355, -28.21487603,\n",
       "       -29.34710744, -30.49586777, -31.66115702, -32.84297521,\n",
       "       -34.04132231, -35.25619835, -36.48760331, -37.73553719,\n",
       "       -39.        , -40.28099174, -41.5785124 , -42.89256198,\n",
       "       -44.2231405 , -45.57024793, -46.9338843 , -48.31404959,\n",
       "       -49.7107438 , -51.12396694, -52.55371901, -54.        ])"
      ]
     },
     "execution_count": 25,
     "metadata": {},
     "output_type": "execute_result"
    }
   ],
   "source": [
    "import numpy as np\n",
    "consumption = np.linspace(1,10,100)\n",
    "util(consumption)"
   ]
  },
  {
   "cell_type": "code",
   "execution_count": 24,
   "metadata": {},
   "outputs": [
    {
     "data": {
      "text/plain": [
       "(2, 10)"
      ]
     },
     "execution_count": 24,
     "metadata": {},
     "output_type": "execute_result"
    }
   ],
   "source": [
    "def find_max_cons(canditates, A=1, B=2, C=10,):\n",
    "    u_max = -np.inf\n",
    "    for i in canditates:\n",
    "        u = util(i,A,B,C)\n",
    "        if u > u_max:\n",
    "            u_max = u\n",
    "            c_max = i\n",
    "    return c_max, u_max\n",
    "find_max_cons(range(10000))\n",
    "        "
   ]
  }
 ],
 "metadata": {
  "kernelspec": {
   "display_name": "TECH2",
   "language": "python",
   "name": "python3"
  },
  "language_info": {
   "codemirror_mode": {
    "name": "ipython",
    "version": 3
   },
   "file_extension": ".py",
   "mimetype": "text/x-python",
   "name": "python",
   "nbconvert_exporter": "python",
   "pygments_lexer": "ipython3",
   "version": "3.13.5"
  }
 },
 "nbformat": 4,
 "nbformat_minor": 2
}
